{
 "cells": [
  {
   "cell_type": "code",
   "execution_count": 9,
   "metadata": {},
   "outputs": [
    {
     "name": "stdout",
     "output_type": "stream",
     "text": [
      "   userId  jokeId  rating\n",
      "0      46       5   6.469\n",
      "1      46       7  -6.781\n",
      "2      46       8   8.625\n",
      "3      46      13  -8.062\n",
      "4      46      15  -4.156\n",
      "userId\n",
      "701      106\n",
      "442      106\n",
      "227      106\n",
      "304      106\n",
      "477      106\n",
      "        ... \n",
      "13239     97\n",
      "13165     97\n",
      "13107     97\n",
      "12568     97\n",
      "63950     97\n",
      "Name: count, Length: 300, dtype: int64\n",
      "   userId  jokeId  rating\n",
      "0       1       5   6.469\n",
      "1       1       7  -6.781\n",
      "2       1       8   8.625\n",
      "3       1      13  -8.062\n",
      "4       1      15  -4.156\n"
     ]
    }
   ],
   "source": [
    "import pandas as pd\n",
    "\n",
    "df = pd.read_csv('top_300_ratings.csv')\n",
    "df['userId'] = df['userId'].rank(method='dense').astype(int)\n",
    "print(df.head())\n",
    "\n",
    "# The ratings are in a -10 to 10 scale, convert to 1 to 5 scale and round to nearest 0.5\n",
    "df['rating'] = df['rating'].apply(lambda x: (x + 10) / 4)\n",
    "df['rating'] = df['rating'].apply(lambda x: round(x * 2) / 2)\n",
    "\n",
    "# Remame columns to user_id and joke_id and rating\n",
    "df = df.rename(columns={'userId': 'user_id', 'jokeId': 'joke_id', 'rating': 'rating'})\n",
    "df.to_csv('top_300_ratings_modified.csv', index=False)"
   ]
  }
 ],
 "metadata": {
  "kernelspec": {
   "display_name": "wwu",
   "language": "python",
   "name": "python3"
  },
  "language_info": {
   "codemirror_mode": {
    "name": "ipython",
    "version": 3
   },
   "file_extension": ".py",
   "mimetype": "text/x-python",
   "name": "python",
   "nbconvert_exporter": "python",
   "pygments_lexer": "ipython3",
   "version": "3.10.16"
  }
 },
 "nbformat": 4,
 "nbformat_minor": 2
}
