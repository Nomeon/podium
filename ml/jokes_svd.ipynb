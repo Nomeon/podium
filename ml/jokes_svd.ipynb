{
 "cells": [
  {
   "cell_type": "markdown",
   "metadata": {
    "id": "YC8Qed9kVU1k"
   },
   "source": [
    "# Collaborative Filtering (SVD)"
   ]
  },
  {
   "cell_type": "code",
   "execution_count": null,
   "metadata": {
    "id": "6vnQVvmKVeZm"
   },
   "outputs": [],
   "source": [
    "!pip install scikit-surprise"
   ]
  },
  {
   "cell_type": "code",
   "execution_count": null,
   "metadata": {
    "id": "lYwY4uudXF6I"
   },
   "outputs": [],
   "source": [
    "import numpy as np\n",
    "import pandas as pd\n",
    "import matplotlib.pyplot as plt\n",
    "import seaborn as sns\n",
    "import surprise\n",
    "\n",
    "from surprise import Reader, Dataset, SVD\n",
    "from surprise import NormalPredictor\n",
    "from surprise.model_selection import cross_validate, train_test_split\n",
    "from surprise.accuracy import rmse, mae"
   ]
  },
  {
   "cell_type": "code",
   "execution_count": null,
   "metadata": {
    "id": "cH0Zbl3bXxyx"
   },
   "outputs": [],
   "source": [
    "ratings = pd.read_csv('jester_ratings.csv')"
   ]
  },
  {
   "cell_type": "code",
   "execution_count": null,
   "metadata": {
    "colab": {
     "base_uri": "https://localhost:8080/"
    },
    "id": "6lR2eEHXlNsX",
    "outputId": "099479d6-57e8-417a-d1cc-186220441dc1"
   },
   "outputs": [
    {
     "data": {
      "text/plain": [
       "(1761439, 3)"
      ]
     },
     "execution_count": 3,
     "metadata": {},
     "output_type": "execute_result"
    }
   ],
   "source": [
    "ratings.shape"
   ]
  },
  {
   "cell_type": "code",
   "execution_count": null,
   "metadata": {
    "colab": {
     "base_uri": "https://localhost:8080/",
     "height": 206
    },
    "id": "u_PJrpcNoFvp",
    "outputId": "7d8dd9db-2842-49ad-88af-0fbefc29b745"
   },
   "outputs": [
    {
     "data": {
      "text/html": [
       "<div>\n",
       "<style scoped>\n",
       "    .dataframe tbody tr th:only-of-type {\n",
       "        vertical-align: middle;\n",
       "    }\n",
       "\n",
       "    .dataframe tbody tr th {\n",
       "        vertical-align: top;\n",
       "    }\n",
       "\n",
       "    .dataframe thead th {\n",
       "        text-align: right;\n",
       "    }\n",
       "</style>\n",
       "<table border=\"1\" class=\"dataframe\">\n",
       "  <thead>\n",
       "    <tr style=\"text-align: right;\">\n",
       "      <th></th>\n",
       "      <th>userId</th>\n",
       "      <th>jokeId</th>\n",
       "      <th>rating</th>\n",
       "    </tr>\n",
       "  </thead>\n",
       "  <tbody>\n",
       "    <tr>\n",
       "      <th>0</th>\n",
       "      <td>1</td>\n",
       "      <td>5</td>\n",
       "      <td>0.219</td>\n",
       "    </tr>\n",
       "    <tr>\n",
       "      <th>1</th>\n",
       "      <td>1</td>\n",
       "      <td>7</td>\n",
       "      <td>-9.281</td>\n",
       "    </tr>\n",
       "    <tr>\n",
       "      <th>2</th>\n",
       "      <td>1</td>\n",
       "      <td>8</td>\n",
       "      <td>-9.281</td>\n",
       "    </tr>\n",
       "    <tr>\n",
       "      <th>3</th>\n",
       "      <td>1</td>\n",
       "      <td>13</td>\n",
       "      <td>-6.781</td>\n",
       "    </tr>\n",
       "    <tr>\n",
       "      <th>4</th>\n",
       "      <td>1</td>\n",
       "      <td>15</td>\n",
       "      <td>0.875</td>\n",
       "    </tr>\n",
       "  </tbody>\n",
       "</table>\n",
       "</div>"
      ],
      "text/plain": [
       "   userId  jokeId  rating\n",
       "0       1       5   0.219\n",
       "1       1       7  -9.281\n",
       "2       1       8  -9.281\n",
       "3       1      13  -6.781\n",
       "4       1      15   0.875"
      ]
     },
     "execution_count": 4,
     "metadata": {},
     "output_type": "execute_result"
    }
   ],
   "source": [
    "ratings.head()"
   ]
  },
  {
   "cell_type": "code",
   "execution_count": null,
   "metadata": {
    "colab": {
     "base_uri": "https://localhost:8080/"
    },
    "id": "TjPFWAnHowPq",
    "outputId": "09ee09ca-9f58-4cb1-c12c-935c74890397"
   },
   "outputs": [
    {
     "name": "stdout",
     "output_type": "stream",
     "text": [
      "<class 'pandas.core.frame.DataFrame'>\n",
      "RangeIndex: 1761439 entries, 0 to 1761438\n",
      "Data columns (total 3 columns):\n",
      " #   Column  Dtype  \n",
      "---  ------  -----  \n",
      " 0   userId  int64  \n",
      " 1   jokeId  int64  \n",
      " 2   rating  float64\n",
      "dtypes: float64(1), int64(2)\n",
      "memory usage: 40.3 MB\n"
     ]
    }
   ],
   "source": [
    "ratings.info()"
   ]
  },
  {
   "cell_type": "code",
   "execution_count": null,
   "metadata": {
    "colab": {
     "base_uri": "https://localhost:8080/",
     "height": 300
    },
    "id": "KQBZ52nXo9h6",
    "outputId": "4ee02a45-8346-4f6f-bec3-e74a3a147702"
   },
   "outputs": [
    {
     "data": {
      "text/html": [
       "<div>\n",
       "<style scoped>\n",
       "    .dataframe tbody tr th:only-of-type {\n",
       "        vertical-align: middle;\n",
       "    }\n",
       "\n",
       "    .dataframe tbody tr th {\n",
       "        vertical-align: top;\n",
       "    }\n",
       "\n",
       "    .dataframe thead th {\n",
       "        text-align: right;\n",
       "    }\n",
       "</style>\n",
       "<table border=\"1\" class=\"dataframe\">\n",
       "  <thead>\n",
       "    <tr style=\"text-align: right;\">\n",
       "      <th></th>\n",
       "      <th>userId</th>\n",
       "      <th>jokeId</th>\n",
       "      <th>rating</th>\n",
       "    </tr>\n",
       "  </thead>\n",
       "  <tbody>\n",
       "    <tr>\n",
       "      <th>count</th>\n",
       "      <td>1.761439e+06</td>\n",
       "      <td>1.761439e+06</td>\n",
       "      <td>1.761439e+06</td>\n",
       "    </tr>\n",
       "    <tr>\n",
       "      <th>mean</th>\n",
       "      <td>3.272322e+04</td>\n",
       "      <td>7.071133e+01</td>\n",
       "      <td>1.618602e+00</td>\n",
       "    </tr>\n",
       "    <tr>\n",
       "      <th>std</th>\n",
       "      <td>1.828011e+04</td>\n",
       "      <td>4.600790e+01</td>\n",
       "      <td>5.302608e+00</td>\n",
       "    </tr>\n",
       "    <tr>\n",
       "      <th>min</th>\n",
       "      <td>1.000000e+00</td>\n",
       "      <td>5.000000e+00</td>\n",
       "      <td>-1.000000e+01</td>\n",
       "    </tr>\n",
       "    <tr>\n",
       "      <th>25%</th>\n",
       "      <td>1.720200e+04</td>\n",
       "      <td>2.100000e+01</td>\n",
       "      <td>-2.031000e+00</td>\n",
       "    </tr>\n",
       "    <tr>\n",
       "      <th>50%</th>\n",
       "      <td>3.480800e+04</td>\n",
       "      <td>6.900000e+01</td>\n",
       "      <td>2.219000e+00</td>\n",
       "    </tr>\n",
       "    <tr>\n",
       "      <th>75%</th>\n",
       "      <td>4.730600e+04</td>\n",
       "      <td>1.120000e+02</td>\n",
       "      <td>5.719000e+00</td>\n",
       "    </tr>\n",
       "    <tr>\n",
       "      <th>max</th>\n",
       "      <td>6.397800e+04</td>\n",
       "      <td>1.500000e+02</td>\n",
       "      <td>1.000000e+01</td>\n",
       "    </tr>\n",
       "  </tbody>\n",
       "</table>\n",
       "</div>"
      ],
      "text/plain": [
       "             userId        jokeId        rating\n",
       "count  1.761439e+06  1.761439e+06  1.761439e+06\n",
       "mean   3.272322e+04  7.071133e+01  1.618602e+00\n",
       "std    1.828011e+04  4.600790e+01  5.302608e+00\n",
       "min    1.000000e+00  5.000000e+00 -1.000000e+01\n",
       "25%    1.720200e+04  2.100000e+01 -2.031000e+00\n",
       "50%    3.480800e+04  6.900000e+01  2.219000e+00\n",
       "75%    4.730600e+04  1.120000e+02  5.719000e+00\n",
       "max    6.397800e+04  1.500000e+02  1.000000e+01"
      ]
     },
     "execution_count": 6,
     "metadata": {},
     "output_type": "execute_result"
    }
   ],
   "source": [
    "ratings.describe()"
   ]
  },
  {
   "cell_type": "code",
   "execution_count": null,
   "metadata": {
    "id": "7YCLRhFEVU1t",
    "outputId": "0f0699ae-9e22-4089-829a-162ae0d726ac"
   },
   "outputs": [
    {
     "data": {
      "image/png": "[encoded data removed]",
      "text/plain": [
       "<Figure size 640x480 with 1 Axes>"
      ]
     },
     "metadata": {},
     "output_type": "display_data"
    }
   ],
   "source": [
    "# Count how many ratings each user has given\n",
    "ratings_per_user = ratings['userId'].value_counts()\n",
    "\n",
    "# Plot a histogram of the number of ratings per user\n",
    "plt.hist(ratings_per_user, bins=range(1, ratings_per_user.max() + 1), edgecolor='black')\n",
    "plt.title('Histogram of Ratings per User')\n",
    "plt.xlabel('Number of Ratings')\n",
    "plt.ylabel('Frequency (Number of Users)')\n",
    "plt.show()"
   ]
  },
  {
   "cell_type": "code",
   "execution_count": null,
   "metadata": {
    "colab": {
     "base_uri": "https://localhost:8080/",
     "height": 905
    },
    "id": "yeqr6cZDpObi",
    "outputId": "a589b810-078d-4efc-d383-5a39ac4c6446"
   },
   "outputs": [
    {
     "data": {
      "image/png": "[encoded data removed]",
      "text/plain": [
       "<Figure size 640x480 with 1 Axes>"
      ]
     },
     "metadata": {},
     "output_type": "display_data"
    }
   ],
   "source": [
    "# Number of Ratings Distributions\n",
    "ratings['jokeId'].value_counts().plot(kind='bar')\n",
    "plt.ylabel(\"Number of Ratings\")\n",
    "plt.xticks([])\n",
    "plt.show()\n"
   ]
  },
  {
   "cell_type": "markdown",
   "metadata": {
    "id": "WKuV_izqVU1u"
   },
   "source": [
    "## Data Prep"
   ]
  },
  {
   "cell_type": "markdown",
   "metadata": {
    "id": "h-ofnyJmVU1v"
   },
   "source": [
    "This simplified data source is cleaned"
   ]
  },
  {
   "cell_type": "markdown",
   "metadata": {
    "id": "fCVTGW6G8_7p"
   },
   "source": [
    "## Model Selection"
   ]
  },
  {
   "cell_type": "code",
   "execution_count": null,
   "metadata": {
    "id": "Ilt3Y3yKpOWT"
   },
   "outputs": [],
   "source": [
    "# Creating a Reader Object for Ratings and a Dataset Object\n",
    "reader = Reader(rating_scale=(-10, 10))\n",
    "data = Dataset.load_from_df(ratings[['userId', 'jokeId', 'rating']], reader)"
   ]
  },
  {
   "cell_type": "code",
   "execution_count": null,
   "metadata": {
    "colab": {
     "base_uri": "https://localhost:8080/"
    },
    "id": "r4rDF5dRpOTa",
    "outputId": "521796a2-0dd9-41e2-dde5-67644a7f4421"
   },
   "outputs": [
    {
     "name": "stdout",
     "output_type": "stream",
     "text": [
      "Evaluating RMSE, MAE of algorithm NormalPredictor on 5 split(s).\n",
      "\n",
      "                  Fold 1  Fold 2  Fold 3  Fold 4  Fold 5  Mean    Std     \n",
      "RMSE (testset)    7.2833  7.2538  7.2803  7.2602  7.2667  7.2689  0.0114  \n",
      "MAE (testset)     5.8912  5.8629  5.8880  5.8697  5.8742  5.8772  0.0108  \n",
      "Fit time          1.95    2.62    3.20    2.99    2.66    2.68    0.43    \n",
      "Test time         2.81    3.32    3.41    3.90    2.51    3.19    0.48    \n"
     ]
    },
    {
     "data": {
      "text/plain": [
       "{'test_rmse': array([7.28326507, 7.25384838, 7.28034636, 7.26016396, 7.26672181]),\n",
       " 'test_mae': array([5.89122963, 5.86287549, 5.88803515, 5.86969886, 5.87421507]),\n",
       " 'fit_time': (1.9456186294555664,\n",
       "  2.6237096786499023,\n",
       "  3.1965150833129883,\n",
       "  2.9894516468048096,\n",
       "  2.6556613445281982),\n",
       " 'test_time': (2.812527656555176,\n",
       "  3.3222405910491943,\n",
       "  3.4147403240203857,\n",
       "  3.896622657775879,\n",
       "  2.5143792629241943)}"
      ]
     },
     "execution_count": 18,
     "metadata": {},
     "output_type": "execute_result"
    }
   ],
   "source": [
    "# Creating a baseline model\n",
    "trainsSet = data.build_full_trainset()\n",
    "algo = NormalPredictor()\n",
    "cross_validate(algo, data, ['RMSE', 'MAE'], cv=5, verbose=True)"
   ]
  },
  {
   "cell_type": "code",
   "execution_count": null,
   "metadata": {
    "colab": {
     "base_uri": "https://localhost:8080/"
    },
    "id": "X78QMjGaRr_U",
    "outputId": "f4cbcf4c-4baf-4c00-b7cb-f408aeab61b3"
   },
   "outputs": [
    {
     "name": "stdout",
     "output_type": "stream",
     "text": [
      "\n",
      "Caching the list of root modules, please wait!\n",
      "(This will only be done once - type '%rehashx' to reset cache!)\n",
      "\n",
      "\n",
      "Caching the list of root modules, please wait!\n",
      "(This will only be done once - type '%rehashx' to reset cache!)\n",
      "\n"
     ]
    },
    {
     "name": "stderr",
     "output_type": "stream",
     "text": [
      "c:\\Users\\omar\\AppData\\Local\\Programs\\Python\\Python312\\Lib\\site-packages\\IPython\\core\\completerlib.py:146: UserWarning: using rootmodules_cache requires you to install the `pickleshare` library.\n",
      "  ip.db['rootmodules_cache'] = rootmodules_cache\n",
      "c:\\Users\\omar\\AppData\\Local\\Programs\\Python\\Python312\\Lib\\site-packages\\IPython\\core\\completerlib.py:146: UserWarning: using rootmodules_cache requires you to install the `pickleshare` library.\n",
      "  ip.db['rootmodules_cache'] = rootmodules_cache\n"
     ]
    },
    {
     "name": "stdout",
     "output_type": "stream",
     "text": [
      "Evaluating RMSE, MAE of algorithm SVD on 5 split(s).\n",
      "\n",
      "                  Fold 1  Fold 2  Fold 3  Fold 4  Fold 5  Mean    Std     \n",
      "RMSE (testset)    4.4987  4.4959  4.5048  4.4972  4.4966  4.4986  0.0032  \n",
      "MAE (testset)     3.3725  3.3685  3.3750  3.3676  3.3707  3.3709  0.0027  \n",
      "Fit time          21.28   20.58   21.63   22.23   20.55   21.25   0.64    \n",
      "Test time         3.68    3.81    3.87    3.93    4.56    3.97    0.31    \n"
     ]
    },
    {
     "data": {
      "text/plain": [
       "{'test_rmse': array([4.49867091, 4.49591745, 4.50482993, 4.49719681, 4.49658899]),\n",
       " 'test_mae': array([3.37252561, 3.36852733, 3.37499364, 3.36759607, 3.37068875]),\n",
       " 'fit_time': (21.280800580978394,\n",
       "  20.583564281463623,\n",
       "  21.630720853805542,\n",
       "  22.229564428329468,\n",
       "  20.547703981399536),\n",
       " 'test_time': (3.67997145652771,\n",
       "  3.8111233711242676,\n",
       "  3.8739702701568604,\n",
       "  3.929417133331299,\n",
       "  4.561872482299805)}"
      ]
     },
     "execution_count": 19,
     "metadata": {},
     "output_type": "execute_result"
    }
   ],
   "source": [
    "#Creating an SVD model\n",
    "algo = SVD()\n",
    "cross_validate(algo, data, ['RMSE', 'MAE'], cv=5, verbose=True)"
   ]
  },
  {
   "cell_type": "markdown",
   "metadata": {
    "id": "iIU7yOaWVU1x"
   },
   "source": [
    "## Hypertuning\n"
   ]
  },
  {
   "cell_type": "code",
   "execution_count": null,
   "metadata": {
    "id": "q7qdHNOZpOOc"
   },
   "outputs": [],
   "source": [
    "from surprise.model_selection import GridSearchCV\n",
    "\n",
    "param_grid = {'n_factors': [100, 200, 500],\n",
    "              'n_epochs': [5, 10],\n",
    "              'lr_all':[0.005, 0.05, 0.1],\n",
    "              'reg_all':[0.02,0.1]\n",
    "              }\n",
    "grid_search = GridSearchCV(SVD, param_grid, measures=['rmse','mae'], cv=3)\n",
    "grid_search.fit(data)"
   ]
  },
  {
   "cell_type": "code",
   "execution_count": null,
   "metadata": {
    "id": "lIG6ck6CVU1x"
   },
   "outputs": [],
   "source": [
    "import pickle\n",
    "\n",
    "\n",
    "# save the model to disk\n",
    "pickle.dump(grid_search, open('surprise_grid_search_svd_max500.sav', 'wb'))\n",
    "#Load the model from disk\n",
    "grid_search = pickle.load(open('surprise_grid_search_svd_max500.sav', 'rb'))\n",
    "\n"
   ]
  },
  {
   "cell_type": "code",
   "execution_count": null,
   "metadata": {
    "id": "rxnQo2IuVU1x"
   },
   "outputs": [],
   "source": [
    "grid_search.best_score"
   ]
  },
  {
   "cell_type": "code",
   "execution_count": null,
   "metadata": {
    "id": "jwn8NouuVU1x"
   },
   "outputs": [],
   "source": [
    "grid_search.best_params"
   ]
  },
  {
   "cell_type": "code",
   "execution_count": null,
   "metadata": {
    "id": "W5DNTRBYVU1x"
   },
   "outputs": [],
   "source": [
    "#One more Time\n",
    "from surprise.model_selection import GridSearchCV\n",
    "\n",
    "param_grid = {'n_factors': [1000, 1500],\n",
    "              'n_epochs': [10, 15],\n",
    "              'lr_all':[0.005, 0.1],\n",
    "              'reg_all':[0.02,0.05]\n",
    "              }\n",
    "grid_search = GridSearchCV(SVD, param_grid, measures=['rmse','mae'], cv=3)\n",
    "grid_search.fit(data)"
   ]
  },
  {
   "cell_type": "code",
   "execution_count": null,
   "metadata": {
    "id": "kM125rU6VU1x"
   },
   "outputs": [],
   "source": [
    "# save the model to disk\n",
    "pickle.dump(grid_search, open('surprise_grid_search_svd_max1000.sav', 'wb'))\n",
    "#Load the model from disk\n",
    "grid_search = pickle.load(open('surprise_grid_search_svd_max1000.sav', 'rb'))"
   ]
  },
  {
   "cell_type": "code",
   "execution_count": null,
   "metadata": {
    "id": "W3vz73DDVU1x"
   },
   "outputs": [],
   "source": [
    "grid_search.best_params"
   ]
  },
  {
   "cell_type": "code",
   "execution_count": null,
   "metadata": {
    "id": "vx-gqJ-QVU1z"
   },
   "outputs": [],
   "source": [
    "grid_search.best_score"
   ]
  },
  {
   "cell_type": "markdown",
   "metadata": {
    "id": "a0oLLBrTgrQ-"
   },
   "source": [
    "## Training the model"
   ]
  },
  {
   "cell_type": "markdown",
   "metadata": {
    "id": "9uRnXUUZVU1z"
   },
   "source": [
    "Initializing SVD with best params"
   ]
  },
  {
   "cell_type": "code",
   "execution_count": null,
   "metadata": {
    "id": "9XX0goqqVU1z"
   },
   "outputs": [],
   "source": [
    "params = {'n_factors': 1500, 'n_epochs': 15, 'lr_all': 0.005, 'reg_all': 0.02}\n",
    "\n",
    "algo = SVD(n_factors=params['n_factors'],\n",
    "           n_epochs=params['n_epochs'],\n",
    "           lr_all=params['lr_all'],\n",
    "           reg_all=params['reg_all'])"
   ]
  },
  {
   "cell_type": "code",
   "execution_count": null,
   "metadata": {
    "id": "ZmOvxD9Xf6Ji"
   },
   "outputs": [],
   "source": [
    "train, test = train_test_split(data, 0.2, random_state=11)"
   ]
  },
  {
   "cell_type": "code",
   "execution_count": null,
   "metadata": {
    "id": "TIYIkbh7VU10",
    "outputId": "f4c22d2a-c7c9-4ad9-8f6a-6ace69a3aab9"
   },
   "outputs": [
    {
     "data": {
      "text/plain": [
       "<surprise.prediction_algorithms.matrix_factorization.SVD at 0x28bca4f29f0>"
      ]
     },
     "execution_count": 30,
     "metadata": {},
     "output_type": "execute_result"
    }
   ],
   "source": [
    "algo.fit(train)"
   ]
  },
  {
   "cell_type": "code",
   "execution_count": null,
   "metadata": {
    "id": "mYzNHcTxVU10"
   },
   "outputs": [],
   "source": [
    "predictions = algo.test(test)"
   ]
  },
  {
   "cell_type": "code",
   "execution_count": null,
   "metadata": {
    "id": "CFOmDdZUVU10",
    "outputId": "ffaaf6ff-bcd6-4460-a3b4-8e60b3cdf8a0"
   },
   "outputs": [
    {
     "name": "stdout",
     "output_type": "stream",
     "text": [
      "RMSE: 4.0901\n"
     ]
    },
    {
     "data": {
      "text/plain": [
       "4.090090842165906"
      ]
     },
     "execution_count": 35,
     "metadata": {},
     "output_type": "execute_result"
    }
   ],
   "source": [
    "rmse(predictions)"
   ]
  },
  {
   "cell_type": "markdown",
   "metadata": {
    "id": "wXd8k_6zVU11"
   },
   "source": [
    "## Recommend Top 3"
   ]
  },
  {
   "cell_type": "code",
   "execution_count": null,
   "metadata": {
    "id": "da6Mu9_dVU11"
   },
   "outputs": [],
   "source": [
    "params = {'n_factors': 1500, 'n_epochs': 15, 'lr_all': 0.005, 'reg_all': 0.02}\n",
    "\n",
    "algo = SVD(n_factors=params['n_factors'],\n",
    "           n_epochs=params['n_epochs'],\n",
    "           lr_all=params['lr_all'],\n",
    "           reg_all=params['reg_all'])"
   ]
  },
  {
   "cell_type": "code",
   "execution_count": null,
   "metadata": {
    "id": "Zu-vfRssVU11",
    "outputId": "2d195fcd-53a5-4d2e-d975-81ff01802954"
   },
   "outputs": [
    {
     "data": {
      "text/plain": [
       "<surprise.prediction_algorithms.matrix_factorization.SVD at 0x15c1b537fe0>"
      ]
     },
     "execution_count": 61,
     "metadata": {},
     "output_type": "execute_result"
    }
   ],
   "source": [
    "algo.fit(data.build_full_trainset())"
   ]
  },
  {
   "cell_type": "code",
   "execution_count": null,
   "metadata": {
    "id": "CCJyH9W4VU12"
   },
   "outputs": [],
   "source": [
    "def recommend_top_k(data, algo, user_id, top_k=3):\n",
    "  '''\n",
    "    Recommends the top-k unrated items for a given user based on predicted ratings.\n",
    "    Note: user ids and item ids are mapped to inner ids. You can go back and forth between ids using built-in functions\n",
    "  '''\n",
    "  #Build TrainSet object\n",
    "  trainSet = data.build_full_trainset()\n",
    "\n",
    "  #Get all items\n",
    "  all_items = set(trainSet.all_items()) # Inner ID\n",
    "\n",
    "  #Get Items rated by user\n",
    "  user_items_full = set(trainSet.ur[trainSet.to_inner_uid(user_id)])\n",
    "  user_items = set([x[0] for x in user_items_full])\n",
    "\n",
    "  #create set with unrated items\n",
    "  unrated_items = all_items - user_items\n",
    "\n",
    "  #predict all unrated items and sort them\n",
    "  predictions = [algo.predict(user_id, trainSet.to_raw_iid(item_id)) for item_id in unrated_items]\n",
    "  predictions = sorted(predictions, key=lambda x: x.est, reverse=True)\n",
    "\n",
    "  for i in range(top_k):\n",
    "      print(f\"Item ID: {predictions[i].iid}, Predicted Rating: {predictions[i].est:.2f}\")"
   ]
  },
  {
   "cell_type": "code",
   "execution_count": null,
   "metadata": {
    "id": "RS5MotXvVU12",
    "outputId": "29a9f10a-8780-4027-c3b3-dd8bb4719db5"
   },
   "outputs": [
    {
     "name": "stdout",
     "output_type": "stream",
     "text": [
      "Item ID: 83, Predicted Rating: 4.23\n",
      "Item ID: 148, Predicted Rating: 4.14\n",
      "Item ID: 114, Predicted Rating: 4.13\n"
     ]
    }
   ],
   "source": [
    "recommend_top_k(data, algo, 44)"
   ]
  },
  {
   "cell_type": "markdown",
   "metadata": {
    "id": "eP6ucIn1t3a9"
   },
   "source": [
    "## Compute Entire predicytion Matrix"
   ]
  },
  {
   "cell_type": "code",
   "execution_count": null,
   "metadata": {
    "id": "W2rIr2VjbXyT"
   },
   "outputs": [],
   "source": [
    "ratings = pd.read_csv('jester_ratings.csv')\n",
    "\n",
    "#define the ratings range\n",
    "reader = Reader(rating_scale=(-10, 10))\n",
    "#create a Dataset object\n",
    "data = Dataset.load_from_df(ratings[['userId', 'jokeId', 'rating']], reader)\n",
    "\n",
    "#load the model\n",
    "algo = pickle.load(open('algo_01.pkl', 'rb'))\n",
    "\n",
    "#Creating a trainset object; to get all users and items\n",
    "trainSet = data.build_full_trainset()\n",
    "\n",
    "#list to add all ratings (actual and predicted)\n",
    "all_predictions = []\n",
    "\n",
    "#Get all users and items\n",
    "users = list(trainSet.all_users())\n",
    "items = list(trainSet.all_items())\n",
    "\n",
    "#Get the raw ids for users and items (in the trainset, they are mapped to inner ids)\n",
    "for user in users:\n",
    "  raw_user_id = trainSet.to_raw_uid(user)\n",
    "  for item in items:\n",
    "    raw_item_id = trainSet.to_raw_iid(item)\n",
    "\n",
    "    #check if item already rated\n",
    "    #format of trainSet.ur[user] is [(item_id, rating), (item_id, rating), ...]\n",
    "\n",
    "    #create a list of user rated items\n",
    "    user_rated_items = {x[0] for x in trainSet.ur[user]}\n",
    "\n",
    "    #check if current item was rated by users. If yes, use the actual. otherwise, predict.\n",
    "    if item in user_rated_items:\n",
    "      #next gets the first result from the generator\n",
    "      rating = next((x[1] for x in trainSet.ur[user] if x[0] == item), None)\n",
    "    else:\n",
    "      #estimation from prediction using raw ids\n",
    "      rating = algo.predict(raw_user_id, raw_item_id).est\n",
    "\n",
    "    all_predictions.append({\n",
    "      'user_id': raw_user_id,\n",
    "      'item_id': raw_item_id,\n",
    "      'rating': rating,\n",
    "    })\n",
    "\n",
    "predictions_df = pd.DataFrame(all_predictions)\n",
    "predictions_df.to_csv(\"predictions.csv\", index=False)\n",
    "#convert into a user item matrix\n",
    "rating_matrix = predictions_df.pivot(index='user_id', columns='item_id', values='rating')\n",
    "#save as csv\n",
    "rating_matrix.to_csv(\"rating_matrix_index.csv\", index = True)\n",
    "\n",
    "\n",
    "\n"
   ]
  }
 ],
 "metadata": {
  "colab": {
   "provenance": []
  },
  "kernelspec": {
   "display_name": "Python 3",
   "name": "python3"
  },
  "language_info": {
   "codemirror_mode": {
    "name": "ipython",
    "version": 3
   },
   "file_extension": ".py",
   "mimetype": "text/x-python",
   "name": "python",
   "nbconvert_exporter": "python",
   "pygments_lexer": "ipython3",
   "version": "3.12.0"
  }
 },
 "nbformat": 4,
 "nbformat_minor": 0
}
